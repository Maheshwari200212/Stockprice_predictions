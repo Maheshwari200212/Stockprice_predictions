{
  "cells": [
    {
      "cell_type": "code",
      "execution_count": 1,
      "id": "1559cda7",
      "metadata": {
        "id": "1559cda7"
      },
      "outputs": [],
      "source": [
        "import numpy as np\n",
        "import pandas as pd\n",
        "import matplotlib.pyplot as plt\n",
        "from sklearn.preprocessing import MinMaxScaler\n",
        "from keras.models import Sequential\n",
        "from keras.layers import Dense,LSTM,Dropout"
      ]
    },
    {
      "cell_type": "code",
      "source": [
        "data=pd.read_csv('/content/sample_data/Google_train_data.csv')\n",
        "data.head()"
      ],
      "metadata": {
        "colab": {
          "base_uri": "https://localhost:8080/",
          "height": 206
        },
        "id": "h8u68j-c23l5",
        "outputId": "effa33ff-8b46-4ec8-9899-cf2640c9c6fa"
      },
      "id": "h8u68j-c23l5",
      "execution_count": 5,
      "outputs": [
        {
          "output_type": "execute_result",
          "data": {
            "text/plain": [
              "       Date    Open    High     Low   Close      Volume\n",
              "0  1/3/2012  325.25  332.83  324.97  663.59   7,380,500\n",
              "1  1/4/2012  331.27  333.87  329.08  666.45   5,749,400\n",
              "2  1/5/2012  329.83  330.75  326.89  657.21   6,590,300\n",
              "3  1/6/2012  328.34  328.77  323.68  648.24   5,405,900\n",
              "4  1/9/2012  322.04  322.29  309.46  620.76  11,688,800"
            ],
            "text/html": [
              "\n",
              "\n",
              "  <div id=\"df-b167a363-cd7c-46db-a1d4-b65a02b22562\">\n",
              "    <div class=\"colab-df-container\">\n",
              "      <div>\n",
              "<style scoped>\n",
              "    .dataframe tbody tr th:only-of-type {\n",
              "        vertical-align: middle;\n",
              "    }\n",
              "\n",
              "    .dataframe tbody tr th {\n",
              "        vertical-align: top;\n",
              "    }\n",
              "\n",
              "    .dataframe thead th {\n",
              "        text-align: right;\n",
              "    }\n",
              "</style>\n",
              "<table border=\"1\" class=\"dataframe\">\n",
              "  <thead>\n",
              "    <tr style=\"text-align: right;\">\n",
              "      <th></th>\n",
              "      <th>Date</th>\n",
              "      <th>Open</th>\n",
              "      <th>High</th>\n",
              "      <th>Low</th>\n",
              "      <th>Close</th>\n",
              "      <th>Volume</th>\n",
              "    </tr>\n",
              "  </thead>\n",
              "  <tbody>\n",
              "    <tr>\n",
              "      <th>0</th>\n",
              "      <td>1/3/2012</td>\n",
              "      <td>325.25</td>\n",
              "      <td>332.83</td>\n",
              "      <td>324.97</td>\n",
              "      <td>663.59</td>\n",
              "      <td>7,380,500</td>\n",
              "    </tr>\n",
              "    <tr>\n",
              "      <th>1</th>\n",
              "      <td>1/4/2012</td>\n",
              "      <td>331.27</td>\n",
              "      <td>333.87</td>\n",
              "      <td>329.08</td>\n",
              "      <td>666.45</td>\n",
              "      <td>5,749,400</td>\n",
              "    </tr>\n",
              "    <tr>\n",
              "      <th>2</th>\n",
              "      <td>1/5/2012</td>\n",
              "      <td>329.83</td>\n",
              "      <td>330.75</td>\n",
              "      <td>326.89</td>\n",
              "      <td>657.21</td>\n",
              "      <td>6,590,300</td>\n",
              "    </tr>\n",
              "    <tr>\n",
              "      <th>3</th>\n",
              "      <td>1/6/2012</td>\n",
              "      <td>328.34</td>\n",
              "      <td>328.77</td>\n",
              "      <td>323.68</td>\n",
              "      <td>648.24</td>\n",
              "      <td>5,405,900</td>\n",
              "    </tr>\n",
              "    <tr>\n",
              "      <th>4</th>\n",
              "      <td>1/9/2012</td>\n",
              "      <td>322.04</td>\n",
              "      <td>322.29</td>\n",
              "      <td>309.46</td>\n",
              "      <td>620.76</td>\n",
              "      <td>11,688,800</td>\n",
              "    </tr>\n",
              "  </tbody>\n",
              "</table>\n",
              "</div>\n",
              "      <button class=\"colab-df-convert\" onclick=\"convertToInteractive('df-b167a363-cd7c-46db-a1d4-b65a02b22562')\"\n",
              "              title=\"Convert this dataframe to an interactive table.\"\n",
              "              style=\"display:none;\">\n",
              "\n",
              "  <svg xmlns=\"http://www.w3.org/2000/svg\" height=\"24px\"viewBox=\"0 0 24 24\"\n",
              "       width=\"24px\">\n",
              "    <path d=\"M0 0h24v24H0V0z\" fill=\"none\"/>\n",
              "    <path d=\"M18.56 5.44l.94 2.06.94-2.06 2.06-.94-2.06-.94-.94-2.06-.94 2.06-2.06.94zm-11 1L8.5 8.5l.94-2.06 2.06-.94-2.06-.94L8.5 2.5l-.94 2.06-2.06.94zm10 10l.94 2.06.94-2.06 2.06-.94-2.06-.94-.94-2.06-.94 2.06-2.06.94z\"/><path d=\"M17.41 7.96l-1.37-1.37c-.4-.4-.92-.59-1.43-.59-.52 0-1.04.2-1.43.59L10.3 9.45l-7.72 7.72c-.78.78-.78 2.05 0 2.83L4 21.41c.39.39.9.59 1.41.59.51 0 1.02-.2 1.41-.59l7.78-7.78 2.81-2.81c.8-.78.8-2.07 0-2.86zM5.41 20L4 18.59l7.72-7.72 1.47 1.35L5.41 20z\"/>\n",
              "  </svg>\n",
              "      </button>\n",
              "\n",
              "\n",
              "\n",
              "    <div id=\"df-99833b2e-0370-4a7c-961d-d987c945e2b4\">\n",
              "      <button class=\"colab-df-quickchart\" onclick=\"quickchart('df-99833b2e-0370-4a7c-961d-d987c945e2b4')\"\n",
              "              title=\"Suggest charts.\"\n",
              "              style=\"display:none;\">\n",
              "\n",
              "<svg xmlns=\"http://www.w3.org/2000/svg\" height=\"24px\"viewBox=\"0 0 24 24\"\n",
              "     width=\"24px\">\n",
              "    <g>\n",
              "        <path d=\"M19 3H5c-1.1 0-2 .9-2 2v14c0 1.1.9 2 2 2h14c1.1 0 2-.9 2-2V5c0-1.1-.9-2-2-2zM9 17H7v-7h2v7zm4 0h-2V7h2v10zm4 0h-2v-4h2v4z\"/>\n",
              "    </g>\n",
              "</svg>\n",
              "      </button>\n",
              "    </div>\n",
              "\n",
              "<style>\n",
              "  .colab-df-quickchart {\n",
              "    background-color: #E8F0FE;\n",
              "    border: none;\n",
              "    border-radius: 50%;\n",
              "    cursor: pointer;\n",
              "    display: none;\n",
              "    fill: #1967D2;\n",
              "    height: 32px;\n",
              "    padding: 0 0 0 0;\n",
              "    width: 32px;\n",
              "  }\n",
              "\n",
              "  .colab-df-quickchart:hover {\n",
              "    background-color: #E2EBFA;\n",
              "    box-shadow: 0px 1px 2px rgba(60, 64, 67, 0.3), 0px 1px 3px 1px rgba(60, 64, 67, 0.15);\n",
              "    fill: #174EA6;\n",
              "  }\n",
              "\n",
              "  [theme=dark] .colab-df-quickchart {\n",
              "    background-color: #3B4455;\n",
              "    fill: #D2E3FC;\n",
              "  }\n",
              "\n",
              "  [theme=dark] .colab-df-quickchart:hover {\n",
              "    background-color: #434B5C;\n",
              "    box-shadow: 0px 1px 3px 1px rgba(0, 0, 0, 0.15);\n",
              "    filter: drop-shadow(0px 1px 2px rgba(0, 0, 0, 0.3));\n",
              "    fill: #FFFFFF;\n",
              "  }\n",
              "</style>\n",
              "\n",
              "    <script>\n",
              "      async function quickchart(key) {\n",
              "        const containerElement = document.querySelector('#' + key);\n",
              "        const charts = await google.colab.kernel.invokeFunction(\n",
              "            'suggestCharts', [key], {});\n",
              "      }\n",
              "    </script>\n",
              "\n",
              "      <script>\n",
              "\n",
              "function displayQuickchartButton(domScope) {\n",
              "  let quickchartButtonEl =\n",
              "    domScope.querySelector('#df-99833b2e-0370-4a7c-961d-d987c945e2b4 button.colab-df-quickchart');\n",
              "  quickchartButtonEl.style.display =\n",
              "    google.colab.kernel.accessAllowed ? 'block' : 'none';\n",
              "}\n",
              "\n",
              "        displayQuickchartButton(document);\n",
              "      </script>\n",
              "      <style>\n",
              "    .colab-df-container {\n",
              "      display:flex;\n",
              "      flex-wrap:wrap;\n",
              "      gap: 12px;\n",
              "    }\n",
              "\n",
              "    .colab-df-convert {\n",
              "      background-color: #E8F0FE;\n",
              "      border: none;\n",
              "      border-radius: 50%;\n",
              "      cursor: pointer;\n",
              "      display: none;\n",
              "      fill: #1967D2;\n",
              "      height: 32px;\n",
              "      padding: 0 0 0 0;\n",
              "      width: 32px;\n",
              "    }\n",
              "\n",
              "    .colab-df-convert:hover {\n",
              "      background-color: #E2EBFA;\n",
              "      box-shadow: 0px 1px 2px rgba(60, 64, 67, 0.3), 0px 1px 3px 1px rgba(60, 64, 67, 0.15);\n",
              "      fill: #174EA6;\n",
              "    }\n",
              "\n",
              "    [theme=dark] .colab-df-convert {\n",
              "      background-color: #3B4455;\n",
              "      fill: #D2E3FC;\n",
              "    }\n",
              "\n",
              "    [theme=dark] .colab-df-convert:hover {\n",
              "      background-color: #434B5C;\n",
              "      box-shadow: 0px 1px 3px 1px rgba(0, 0, 0, 0.15);\n",
              "      filter: drop-shadow(0px 1px 2px rgba(0, 0, 0, 0.3));\n",
              "      fill: #FFFFFF;\n",
              "    }\n",
              "  </style>\n",
              "\n",
              "      <script>\n",
              "        const buttonEl =\n",
              "          document.querySelector('#df-b167a363-cd7c-46db-a1d4-b65a02b22562 button.colab-df-convert');\n",
              "        buttonEl.style.display =\n",
              "          google.colab.kernel.accessAllowed ? 'block' : 'none';\n",
              "\n",
              "        async function convertToInteractive(key) {\n",
              "          const element = document.querySelector('#df-b167a363-cd7c-46db-a1d4-b65a02b22562');\n",
              "          const dataTable =\n",
              "            await google.colab.kernel.invokeFunction('convertToInteractive',\n",
              "                                                     [key], {});\n",
              "          if (!dataTable) return;\n",
              "\n",
              "          const docLinkHtml = 'Like what you see? Visit the ' +\n",
              "            '<a target=\"_blank\" href=https://colab.research.google.com/notebooks/data_table.ipynb>data table notebook</a>'\n",
              "            + ' to learn more about interactive tables.';\n",
              "          element.innerHTML = '';\n",
              "          dataTable['output_type'] = 'display_data';\n",
              "          await google.colab.output.renderOutput(dataTable, element);\n",
              "          const docLink = document.createElement('div');\n",
              "          docLink.innerHTML = docLinkHtml;\n",
              "          element.appendChild(docLink);\n",
              "        }\n",
              "      </script>\n",
              "    </div>\n",
              "  </div>\n"
            ]
          },
          "metadata": {},
          "execution_count": 5
        }
      ]
    },
    {
      "cell_type": "code",
      "execution_count": 6,
      "id": "a3efa17a",
      "metadata": {
        "colab": {
          "base_uri": "https://localhost:8080/"
        },
        "id": "a3efa17a",
        "outputId": "7ae72d4f-5076-4ee1-c4c4-86de29fa216f"
      },
      "outputs": [
        {
          "output_type": "stream",
          "name": "stdout",
          "text": [
            "<class 'pandas.core.frame.DataFrame'>\n",
            "RangeIndex: 1258 entries, 0 to 1257\n",
            "Data columns (total 6 columns):\n",
            " #   Column  Non-Null Count  Dtype  \n",
            "---  ------  --------------  -----  \n",
            " 0   Date    1258 non-null   object \n",
            " 1   Open    1258 non-null   float64\n",
            " 2   High    1258 non-null   float64\n",
            " 3   Low     1258 non-null   float64\n",
            " 4   Close   1258 non-null   object \n",
            " 5   Volume  1258 non-null   object \n",
            "dtypes: float64(3), object(3)\n",
            "memory usage: 59.1+ KB\n"
          ]
        }
      ],
      "source": [
        "data.info()"
      ]
    },
    {
      "cell_type": "code",
      "execution_count": 7,
      "id": "3148bb78",
      "metadata": {
        "id": "3148bb78"
      },
      "outputs": [],
      "source": [
        "data[\"Close\"]=pd.to_numeric(data.Close,errors='coerce')\n",
        "data = data.dropna()\n",
        "trainData = data.iloc[:,4:5].values"
      ]
    },
    {
      "cell_type": "code",
      "execution_count": 8,
      "id": "42fb12f4",
      "metadata": {
        "colab": {
          "base_uri": "https://localhost:8080/"
        },
        "id": "42fb12f4",
        "outputId": "1dd863f2-4c61-498e-dc58-348fa2edaf28"
      },
      "outputs": [
        {
          "output_type": "stream",
          "name": "stdout",
          "text": [
            "<class 'pandas.core.frame.DataFrame'>\n",
            "Int64Index: 1149 entries, 0 to 1257\n",
            "Data columns (total 6 columns):\n",
            " #   Column  Non-Null Count  Dtype  \n",
            "---  ------  --------------  -----  \n",
            " 0   Date    1149 non-null   object \n",
            " 1   Open    1149 non-null   float64\n",
            " 2   High    1149 non-null   float64\n",
            " 3   Low     1149 non-null   float64\n",
            " 4   Close   1149 non-null   float64\n",
            " 5   Volume  1149 non-null   object \n",
            "dtypes: float64(4), object(2)\n",
            "memory usage: 62.8+ KB\n"
          ]
        }
      ],
      "source": [
        "data.info()"
      ]
    },
    {
      "cell_type": "code",
      "execution_count": 9,
      "id": "8214499d",
      "metadata": {
        "colab": {
          "base_uri": "https://localhost:8080/"
        },
        "id": "8214499d",
        "outputId": "4671f57d-ca73-4aae-a303-51998730f60b"
      },
      "outputs": [
        {
          "output_type": "execute_result",
          "data": {
            "text/plain": [
              "(1149, 1)"
            ]
          },
          "metadata": {},
          "execution_count": 9
        }
      ],
      "source": [
        "sc = MinMaxScaler(feature_range=(0,1))\n",
        "trainData = sc.fit_transform(trainData)\n",
        "trainData.shape"
      ]
    },
    {
      "cell_type": "code",
      "execution_count": 10,
      "id": "76162190",
      "metadata": {
        "id": "76162190"
      },
      "outputs": [],
      "source": [
        "X_train = []\n",
        "y_train = []\n",
        "\n",
        "for i in range (60,1149):\n",
        "    X_train.append(trainData[i-60:i,0])\n",
        "    y_train.append(trainData[i,0])\n",
        "\n",
        "X_train,y_train = np.array(X_train),np.array(y_train)"
      ]
    },
    {
      "cell_type": "code",
      "execution_count": 11,
      "id": "c6ed4246",
      "metadata": {
        "colab": {
          "base_uri": "https://localhost:8080/"
        },
        "id": "c6ed4246",
        "outputId": "bb83228b-1e4e-44a9-c186-76d401371276"
      },
      "outputs": [
        {
          "output_type": "execute_result",
          "data": {
            "text/plain": [
              "(1089, 60, 1)"
            ]
          },
          "metadata": {},
          "execution_count": 11
        }
      ],
      "source": [
        "X_train = np.reshape(X_train,(X_train.shape[0],X_train.shape[1],1))\n",
        "X_train.shape"
      ]
    },
    {
      "cell_type": "code",
      "execution_count": 12,
      "id": "7f69081a",
      "metadata": {
        "id": "7f69081a"
      },
      "outputs": [],
      "source": [
        "model = Sequential()\n",
        "\n",
        "model.add(LSTM(units=100, return_sequences = True, input_shape =(X_train.shape[1],1)))\n",
        "model.add(Dropout(0.2))\n",
        "\n",
        "model.add(LSTM(units=100, return_sequences = True))\n",
        "model.add(Dropout(0.2))\n",
        "\n",
        "model.add(LSTM(units=100, return_sequences = True))\n",
        "model.add(Dropout(0.2))\n",
        "\n",
        "model.add(LSTM(units=100, return_sequences = False))\n",
        "model.add(Dropout(0.2))\n",
        "\n",
        "model.add(Dense(units =1))\n",
        "model.compile(optimizer='adam',loss=\"mean_squared_error\")"
      ]
    },
    {
      "cell_type": "code",
      "execution_count": 13,
      "id": "20176bb7",
      "metadata": {
        "colab": {
          "base_uri": "https://localhost:8080/"
        },
        "id": "20176bb7",
        "outputId": "cc2df2a1-3290-4f82-b82c-e82a589dc1c6"
      },
      "outputs": [
        {
          "output_type": "stream",
          "name": "stdout",
          "text": [
            "Epoch 1/20\n",
            "35/35 - 18s - loss: 0.0338 - 18s/epoch - 518ms/step\n",
            "Epoch 2/20\n",
            "35/35 - 8s - loss: 0.0111 - 8s/epoch - 226ms/step\n",
            "Epoch 3/20\n",
            "35/35 - 8s - loss: 0.0099 - 8s/epoch - 220ms/step\n",
            "Epoch 4/20\n",
            "35/35 - 10s - loss: 0.0084 - 10s/epoch - 273ms/step\n",
            "Epoch 5/20\n",
            "35/35 - 8s - loss: 0.0079 - 8s/epoch - 216ms/step\n",
            "Epoch 6/20\n",
            "35/35 - 8s - loss: 0.0087 - 8s/epoch - 236ms/step\n",
            "Epoch 7/20\n",
            "35/35 - 9s - loss: 0.0073 - 9s/epoch - 245ms/step\n",
            "Epoch 8/20\n",
            "35/35 - 9s - loss: 0.0065 - 9s/epoch - 270ms/step\n",
            "Epoch 9/20\n",
            "35/35 - 9s - loss: 0.0063 - 9s/epoch - 264ms/step\n",
            "Epoch 10/20\n",
            "35/35 - 9s - loss: 0.0061 - 9s/epoch - 244ms/step\n",
            "Epoch 11/20\n",
            "35/35 - 7s - loss: 0.0063 - 7s/epoch - 213ms/step\n",
            "Epoch 12/20\n",
            "35/35 - 8s - loss: 0.0057 - 8s/epoch - 238ms/step\n",
            "Epoch 13/20\n",
            "35/35 - 8s - loss: 0.0075 - 8s/epoch - 241ms/step\n",
            "Epoch 14/20\n",
            "35/35 - 7s - loss: 0.0059 - 7s/epoch - 208ms/step\n",
            "Epoch 15/20\n",
            "35/35 - 9s - loss: 0.0055 - 9s/epoch - 243ms/step\n",
            "Epoch 16/20\n",
            "35/35 - 9s - loss: 0.0056 - 9s/epoch - 244ms/step\n",
            "Epoch 17/20\n",
            "35/35 - 7s - loss: 0.0055 - 7s/epoch - 205ms/step\n",
            "Epoch 18/20\n",
            "35/35 - 8s - loss: 0.0054 - 8s/epoch - 241ms/step\n",
            "Epoch 19/20\n",
            "35/35 - 7s - loss: 0.0050 - 7s/epoch - 206ms/step\n",
            "Epoch 20/20\n",
            "35/35 - 8s - loss: 0.0056 - 8s/epoch - 241ms/step\n"
          ]
        }
      ],
      "source": [
        "hist = model.fit(X_train, y_train, epochs = 20, batch_size = 32, verbose=2)"
      ]
    },
    {
      "cell_type": "code",
      "execution_count": 14,
      "id": "577efeed",
      "metadata": {
        "colab": {
          "base_uri": "https://localhost:8080/",
          "height": 472
        },
        "id": "577efeed",
        "outputId": "7f5911e8-39f6-4887-a344-fa3ebc54aacf"
      },
      "outputs": [
        {
          "output_type": "display_data",
          "data": {
            "text/plain": [
              "<Figure size 640x480 with 1 Axes>"
            ],
            "image/png": "[encoded data removed]"
          },
          "metadata": {}
        }
      ],
      "source": [
        "plt.plot(hist.history['loss'])\n",
        "plt.title('Training model loss')\n",
        "plt.ylabel('loss')\n",
        "plt.xlabel('epoch')\n",
        "plt.legend(['train'], loc='upper left')\n",
        "plt.show()"
      ]
    },
    {
      "cell_type": "code",
      "execution_count": 17,
      "id": "b4477ea4",
      "metadata": {
        "colab": {
          "base_uri": "https://localhost:8080/"
        },
        "id": "b4477ea4",
        "outputId": "cb83c87f-7bc9-4fbf-c23e-6b7b5c3ccc05"
      },
      "outputs": [
        {
          "output_type": "execute_result",
          "data": {
            "text/plain": [
              "(192, 60, 1)"
            ]
          },
          "metadata": {},
          "execution_count": 17
        }
      ],
      "source": [
        "testData = pd.read_csv('/Google_test_data.csv')\n",
        "testData[\"Close\"]=pd.to_numeric(testData.Close,errors='coerce')\n",
        "testData = testData.dropna()\n",
        "testData = testData.iloc[:,4:5]\n",
        "y_test = testData.iloc[60:,0:].values\n",
        "inputClosing = testData.iloc[:,0:].values\n",
        "inputClosing_scaled = sc.transform(inputClosing)\n",
        "inputClosing_scaled.shape\n",
        "X_test = []\n",
        "length = len(testData)\n",
        "timestep = 60\n",
        "for i in range(timestep,length):\n",
        "    X_test.append(inputClosing_scaled[i-timestep:i,0])\n",
        "X_test = np.array(X_test)\n",
        "X_test = np.reshape(X_test,(X_test.shape[0],X_test.shape[1],1))\n",
        "X_test.shape"
      ]
    },
    {
      "cell_type": "code",
      "execution_count": 18,
      "id": "0ad4766c",
      "metadata": {
        "colab": {
          "base_uri": "https://localhost:8080/"
        },
        "id": "0ad4766c",
        "outputId": "915487c1-c64a-4f1c-c6e0-3a499b281646"
      },
      "outputs": [
        {
          "output_type": "stream",
          "name": "stdout",
          "text": [
            "6/6 [==============================] - 2s 68ms/step\n"
          ]
        },
        {
          "output_type": "execute_result",
          "data": {
            "text/plain": [
              "array([[1.282335 ],\n",
              "       [1.2849314],\n",
              "       [1.2971747],\n",
              "       [1.3157498],\n",
              "       [1.3308053],\n",
              "       [1.33125  ],\n",
              "       [1.3178695],\n",
              "       [1.2993503],\n",
              "       [1.287709 ],\n",
              "       [1.2849936],\n",
              "       [1.2782979],\n",
              "       [1.2665911],\n",
              "       [1.2558753],\n",
              "       [1.2458696],\n",
              "       [1.2434202],\n",
              "       [1.247859 ],\n",
              "       [1.266681 ],\n",
              "       [1.2966272],\n",
              "       [1.3309921],\n",
              "       [1.3652505],\n",
              "       [1.3791832],\n",
              "       [1.3761464],\n",
              "       [1.3551884],\n",
              "       [1.3250428],\n",
              "       [1.2978985],\n",
              "       [1.2824829],\n",
              "       [1.2787826],\n",
              "       [1.2780423],\n",
              "       [1.2698778],\n",
              "       [1.2575697],\n",
              "       [1.2440461],\n",
              "       [1.2289288],\n",
              "       [1.2069539],\n",
              "       [1.1801605],\n",
              "       [1.1688536],\n",
              "       [1.178223 ],\n",
              "       [1.2008052],\n",
              "       [1.22676  ],\n",
              "       [1.2515328],\n",
              "       [1.2642815],\n",
              "       [1.2775706],\n",
              "       [1.2940626],\n",
              "       [1.3134   ],\n",
              "       [1.331587 ],\n",
              "       [1.3441914],\n",
              "       [1.3465645],\n",
              "       [1.336949 ],\n",
              "       [1.3282402],\n",
              "       [1.3262808],\n",
              "       [1.3328667],\n",
              "       [1.346865 ],\n",
              "       [1.3562266],\n",
              "       [1.3586615],\n",
              "       [1.3552824],\n",
              "       [1.3533846],\n",
              "       [1.349412 ],\n",
              "       [1.3405302],\n",
              "       [1.3359605],\n",
              "       [1.3451649],\n",
              "       [1.3639883],\n",
              "       [1.3912227],\n",
              "       [1.4240191],\n",
              "       [1.446933 ],\n",
              "       [1.4509112],\n",
              "       [1.4384654],\n",
              "       [1.4176372],\n",
              "       [1.403284 ],\n",
              "       [1.3988187],\n",
              "       [1.402389 ],\n",
              "       [1.4077646],\n",
              "       [1.4130611],\n",
              "       [1.4159238],\n",
              "       [1.4115195],\n",
              "       [1.4051534],\n",
              "       [1.3997785],\n",
              "       [1.3981073],\n",
              "       [1.400091 ],\n",
              "       [1.4052254],\n",
              "       [1.4175099],\n",
              "       [1.4362224],\n",
              "       [1.4605147],\n",
              "       [1.4838656],\n",
              "       [1.4973007],\n",
              "       [1.4995778],\n",
              "       [1.5036755],\n",
              "       [1.5171732],\n",
              "       [1.5367308],\n",
              "       [1.5537411],\n",
              "       [1.563716 ],\n",
              "       [1.5664054],\n",
              "       [1.5682263],\n",
              "       [1.5783314],\n",
              "       [1.5967714],\n",
              "       [1.6094344],\n",
              "       [1.6085529],\n",
              "       [1.5945494],\n",
              "       [1.570702 ],\n",
              "       [1.543187 ],\n",
              "       [1.519963 ],\n",
              "       [1.5109471],\n",
              "       [1.5168214],\n",
              "       [1.5332352],\n",
              "       [1.5557609],\n",
              "       [1.5756793],\n",
              "       [1.5879095],\n",
              "       [1.590349 ],\n",
              "       [1.5872492],\n",
              "       [1.582906 ],\n",
              "       [1.5833781],\n",
              "       [1.5892462],\n",
              "       [1.5994705],\n",
              "       [1.6134193],\n",
              "       [1.6274803],\n",
              "       [1.6424046],\n",
              "       [1.6607503],\n",
              "       [1.676315 ],\n",
              "       [1.6882803],\n",
              "       [1.6985818],\n",
              "       [1.711432 ],\n",
              "       [1.6925353],\n",
              "       [1.6415473],\n",
              "       [1.5764618],\n",
              "       [1.5230575],\n",
              "       [1.4921459],\n",
              "       [1.4781302],\n",
              "       [1.4731154],\n",
              "       [1.4717857],\n",
              "       [1.4728748],\n",
              "       [1.46633  ],\n",
              "       [1.4500144],\n",
              "       [1.4421377],\n",
              "       [1.4510142],\n",
              "       [1.4674286],\n",
              "       [1.476962 ],\n",
              "       [1.4800129],\n",
              "       [1.4797169],\n",
              "       [1.4753641],\n",
              "       [1.4666444],\n",
              "       [1.4563677],\n",
              "       [1.4422461],\n",
              "       [1.4271739],\n",
              "       [1.4103708],\n",
              "       [1.3757098],\n",
              "       [1.3335288],\n",
              "       [1.2922702],\n",
              "       [1.2597511],\n",
              "       [1.2449986],\n",
              "       [1.25095  ],\n",
              "       [1.2711754],\n",
              "       [1.2964011],\n",
              "       [1.3225409],\n",
              "       [1.3446544],\n",
              "       [1.3621109],\n",
              "       [1.3774219],\n",
              "       [1.3899896],\n",
              "       [1.4013022],\n",
              "       [1.4135787],\n",
              "       [1.4237155],\n",
              "       [1.421843 ],\n",
              "       [1.4072672],\n",
              "       [1.3849224],\n",
              "       [1.3628782],\n",
              "       [1.3505232],\n",
              "       [1.3524338],\n",
              "       [1.3677101],\n",
              "       [1.3924023],\n",
              "       [1.414906 ],\n",
              "       [1.4319357],\n",
              "       [1.4469125],\n",
              "       [1.4608586],\n",
              "       [1.472633 ],\n",
              "       [1.4823991],\n",
              "       [1.4903286],\n",
              "       [1.4937266],\n",
              "       [1.492642 ],\n",
              "       [1.4839071],\n",
              "       [1.472472 ],\n",
              "       [1.4644094],\n",
              "       [1.458744 ],\n",
              "       [1.4531925],\n",
              "       [1.4815868],\n",
              "       [1.5360426],\n",
              "       [1.5924153],\n",
              "       [1.6321945],\n",
              "       [1.648671 ],\n",
              "       [1.6418856],\n",
              "       [1.6083225],\n",
              "       [1.5665431],\n",
              "       [1.530849 ],\n",
              "       [1.516358 ],\n",
              "       [1.5162748],\n",
              "       [1.5191981]], dtype=float32)"
            ]
          },
          "metadata": {},
          "execution_count": 18
        }
      ],
      "source": [
        "y_pred = model.predict(X_test)\n",
        "y_pred"
      ]
    },
    {
      "cell_type": "code",
      "execution_count": 19,
      "id": "34c9b962",
      "metadata": {
        "id": "34c9b962"
      },
      "outputs": [],
      "source": [
        "predicted_price = sc.inverse_transform(y_pred)"
      ]
    },
    {
      "cell_type": "code",
      "execution_count": 20,
      "id": "ddf15a75",
      "metadata": {
        "colab": {
          "base_uri": "https://localhost:8080/",
          "height": 472
        },
        "id": "ddf15a75",
        "outputId": "c79b3b7e-8a0c-40a7-a1aa-9154c4201235"
      },
      "outputs": [
        {
          "output_type": "display_data",
          "data": {
            "text/plain": [
              "<Figure size 640x480 with 1 Axes>"
            ],
            "image/png": "[encoded data removed]"
          },
          "metadata": {}
        }
      ],
      "source": [
        "plt.plot(y_test, color = 'red', label = 'Actual Stock Price')\n",
        "plt.plot(predicted_price, color = 'green', label = 'Predicted Stock Price')\n",
        "plt.title('Google stock price prediction')\n",
        "plt.xlabel('Time')\n",
        "plt.ylabel('Stock Price')\n",
        "plt.legend()\n",
        "plt.show()"
      ]
    }
  ],
  "metadata": {
    "kernelspec": {
      "display_name": "Python 3 (ipykernel)",
      "language": "python",
      "name": "python3"
    },
    "language_info": {
      "codemirror_mode": {
        "name": "ipython",
        "version": 3
      },
      "file_extension": ".py",
      "mimetype": "text/x-python",
      "name": "python",
      "nbconvert_exporter": "python",
      "pygments_lexer": "ipython3",
      "version": "3.10.9"
    },
    "colab": {
      "provenance": []
    }
  },
  "nbformat": 4,
  "nbformat_minor": 5
}